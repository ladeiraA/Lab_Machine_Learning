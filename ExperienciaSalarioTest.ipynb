{
  "nbformat": 4,
  "nbformat_minor": 0,
  "metadata": {
    "colab": {
      "name": "ExperienciaSalarioTest.ipynb",
      "provenance": [],
      "authorship_tag": "ABX9TyP6R/vV4h99uK/GSRhiRSHx",
      "include_colab_link": true
    },
    "kernelspec": {
      "name": "python3",
      "display_name": "Python 3"
    },
    "language_info": {
      "name": "python"
    }
  },
  "cells": [
    {
      "cell_type": "markdown",
      "metadata": {
        "id": "view-in-github",
        "colab_type": "text"
      },
      "source": [
        "<a href=\"https://colab.research.google.com/github/ladeiraA/Lab_Machine_Learning/blob/main/ExperienciaSalarioTest.ipynb\" target=\"_parent\"><img src=\"https://colab.research.google.com/assets/colab-badge.svg\" alt=\"Open In Colab\"/></a>"
      ]
    },
    {
      "cell_type": "code",
      "source": [
        "#Importar as bibliotecas\n",
        "import matplotlib.pyplot as plt\n",
        "import numpy as np\n",
        "import pandas as pd\n",
        "from sklearn import linear_model\n",
        "from sklearn.metrics import mean_squared_error, r2_score\n",
        "from sklearn.model_selection import train_test_split"
      ],
      "metadata": {
        "id": "YMEiEm0lRlyc"
      },
      "execution_count": 49,
      "outputs": []
    },
    {
      "cell_type": "code",
      "source": [
        "#Importar dataset\n",
        "data = pd.read_csv(\"Salary_Data.csv\")"
      ],
      "metadata": {
        "id": "0Re7oSv3STgb"
      },
      "execution_count": 50,
      "outputs": []
    },
    {
      "cell_type": "code",
      "source": [
        "#Separar entre atributos e targets\n",
        "x = data.iloc[:,:-1].values\n",
        "y = data.iloc[:,1].values"
      ],
      "metadata": {
        "id": "dy9pDwxiSjFi"
      },
      "execution_count": 51,
      "outputs": []
    },
    {
      "cell_type": "code",
      "source": [
        "#separando conjunto de treino e conjunto teste\n",
        "x_train, x_test, y_train, y_test = train_test_split(x,y, train_size=0.7,)"
      ],
      "metadata": {
        "id": "lQncxONkSynq"
      },
      "execution_count": 52,
      "outputs": []
    },
    {
      "cell_type": "code",
      "source": [
        "#Criar modelo de regressão linear\n",
        "regr = linear_model.LinearRegression()"
      ],
      "metadata": {
        "id": "ebbnDGk2TYZr"
      },
      "execution_count": 53,
      "outputs": []
    },
    {
      "cell_type": "code",
      "execution_count": 54,
      "metadata": {
        "colab": {
          "base_uri": "https://localhost:8080/"
        },
        "id": "lv3SMMpPPCiA",
        "outputId": "05d66cbf-cacd-433d-ebe4-aa3fccb3f70d"
      },
      "outputs": [
        {
          "output_type": "execute_result",
          "data": {
            "text/plain": [
              "LinearRegression()"
            ]
          },
          "metadata": {},
          "execution_count": 54
        }
      ],
      "source": [
        "#Ajustar o modelo de regressão (Aprendizado)\n",
        "regr.fit(x_train, y_train)"
      ]
    },
    {
      "cell_type": "code",
      "source": [
        "#Grafico com os dados de treinamento\n",
        "plt.scatter(x_train, y_train, color='red')\n",
        "plt.plot(x_train, regr.predict(x_train), color='blue')\n",
        "plt.title(\"Experiencia X Salario(Training)\")\n",
        "plt.xlabel(\"Experiencia (Anos)\")\n",
        "plt.ylabel(\"Salario (Dinheiro)\")\n",
        "plt.show()"
      ],
      "metadata": {
        "colab": {
          "base_uri": "https://localhost:8080/",
          "height": 295
        },
        "id": "2ArDVuejQ1-u",
        "outputId": "7e1b86cc-84b8-424a-80c6-3284bc7ac748"
      },
      "execution_count": 55,
      "outputs": [
        {
          "output_type": "display_data",
          "data": {
            "text/plain": [
              "<Figure size 432x288 with 1 Axes>"
            ],
            "image/png": "[encoded data removed]"
          },
          "metadata": {
            "needs_background": "light"
          }
        }
      ]
    },
    {
      "cell_type": "code",
      "source": [
        "plt.scatter(x_test, y_test, color='red')\n",
        "plt.plot(x_train, regr.predict(x_train), color='blue')\n",
        "plt.title(\"Experiencia X Salario(Training)\")\n",
        "plt.xlabel(\"Experiencia (Anos)\")\n",
        "plt.ylabel(\"Salario (Dinheiro)\")\n",
        "plt.show()"
      ],
      "metadata": {
        "colab": {
          "base_uri": "https://localhost:8080/",
          "height": 295
        },
        "id": "TOrLPULCT3Fo",
        "outputId": "4d012876-bf67-428a-f2e6-769694d0a959"
      },
      "execution_count": 56,
      "outputs": [
        {
          "output_type": "display_data",
          "data": {
            "text/plain": [
              "<Figure size 432x288 with 1 Axes>"
            ],
            "image/png": "[encoded data removed]"
          },
          "metadata": {
            "needs_background": "light"
          }
        }
      ]
    },
    {
      "cell_type": "code",
      "source": [
        "#Avaliar as metricas do modele ajustado\n",
        "y_pred = regr.predict(x_test)\n",
        "print(\"Mean Squared Error: \", mean_squared_error(y_test, y_pred))\n",
        "print(\"Coeficiente de Determinação (R²)\", r2_score(y_test, y_pred))"
      ],
      "metadata": {
        "colab": {
          "base_uri": "https://localhost:8080/"
        },
        "id": "dUI0WFFmaW7j",
        "outputId": "bbcfb40d-b29d-471e-af90-289676329c06"
      },
      "execution_count": 57,
      "outputs": [
        {
          "output_type": "stream",
          "name": "stdout",
          "text": [
            "Mean Squared Error:  24840522.281329263\n",
            "Coeficiente de Determinação (R²) 0.9674121345555501\n"
          ]
        }
      ]
    }
  ]
}